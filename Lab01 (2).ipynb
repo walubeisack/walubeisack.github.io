{
 "cells": [
  {
   "cell_type": "markdown",
   "metadata": {},
   "source": [
    "<a href=\"https://colab.research.google.com/github/gisynw/ssj-30262/blob/main/docs/Labs/Lab01.ipynb\" target=\"_blank\">\n",
    "  <img src=\"https://colab.research.google.com/assets/colab-badge.svg\" alt=\"Open in Colab\" style=\"height: 30px;\"/>\n",
    "</a>\n",
    "&nbsp &nbsp\n",
    "<a href=\"./Lab01.ipynb\" target=\"_blank\"> \n",
    "  <img src=\"https://img.icons8.com/?size=100&id=108635&format=png&color=000000\" alt=\"Download\" style=\"height: 40px;\"/>\n",
    " </a>"
   ]
  },
  {
   "cell_type": "markdown",
   "metadata": {},
   "source": [
    "<h3 style=\"text-align: center;\">Lab 01: Github Personal Website</h3>\n",
    "\n",
    "- This lab accomplish two goals. \n",
    "  - To provide the website template to use for your final project\n",
    "  - To Provide the URL of README. file in your Github\n",
    "\n",
    "- Save the URL in .ipynb file, ensuring that the link is **clikable**. Then export the file as HTML or PDF file. Submit the HTML or PEF file to Canvas by **midnight (11:29 PM) on September 8**.\n",
    "\n",
    "- This lab is worth a total of **50 points** and contributes **5%** toward the final grade."
   ]
  },
  {
   "cell_type": "markdown",
   "metadata": {},
   "source": [
    "### 1. Provide the URL of your Github\n",
    "\n",
    "If I click into it, it will show your README file (cover page) of your Github (25 points)\n",
    "\n",
    "Example:\n",
    "[My Github](https://github.com/walubeisack)"
   ]
  },
  {
   "cell_type": "markdown",
   "metadata": {},
   "source": [
    "### 2. Provide the URL of your personal website \n",
    "\n",
    "If I click into it, it will show your personal website instead of Repository in Github (25 points)\n",
    "\n",
    "Example:\n",
    "[Personal website](https://walubeisack.github.io/)"
   ]
  }
 ],
 "metadata": {
  "kernelspec": {
   "display_name": "arcgispro_arcpy",
   "language": "python",
   "name": "python3"
  },
  "language_info": {
   "codemirror_mode": {
    "name": "ipython",
    "version": 3
   },
   "file_extension": ".py",
   "mimetype": "text/x-python",
   "name": "python",
   "nbconvert_exporter": "python",
   "pygments_lexer": "ipython3",
   "version": "3.11.8"
  }
 },
 "nbformat": 4,
 "nbformat_minor": 2
}
